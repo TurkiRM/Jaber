{
 "cells": [
  {
   "cell_type": "code",
   "execution_count": 1,
   "id": "5e28c494",
   "metadata": {},
   "outputs": [],
   "source": [
    "API_KEY = 'DkR6anbPl5yMPdjWDELKAfacro11dTB2tw60f_d7zJkt'\n",
    "SERVICE_URL = 'https://eu-de.ml.cloud.ibm.com'\n",
    "MODEL_ID = 'sdaia/allam-1-13b-instruct'\n",
    "PROJECT_ID = '3c38e6c5-4dfc-4ff3-b087-c65c9eb3945b'\n",
    "def get_credentials():\n",
    "    return {\n",
    "        \"url\": SERVICE_URL,\n",
    "        \"apikey\": API_KEY\n",
    "    }"
   ]
  },
  {
   "cell_type": "code",
   "execution_count": null,
   "id": "5688b16d",
   "metadata": {},
   "outputs": [],
   "source": []
  }
 ],
 "metadata": {
  "kernelspec": {
   "display_name": "Python 3 (ipykernel)",
   "language": "python",
   "name": "python3"
  },
  "language_info": {
   "codemirror_mode": {
    "name": "ipython",
    "version": 3
   },
   "file_extension": ".py",
   "mimetype": "text/x-python",
   "name": "python",
   "nbconvert_exporter": "python",
   "pygments_lexer": "ipython3",
   "version": "3.11.5"
  }
 },
 "nbformat": 4,
 "nbformat_minor": 5
}
